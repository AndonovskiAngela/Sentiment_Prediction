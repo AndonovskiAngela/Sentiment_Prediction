{
 "cells": [
  {
   "cell_type": "markdown",
   "id": "8d8a972d-cc10-4d1b-9170-85c501587fb3",
   "metadata": {},
   "source": [
    "Изработил: Ангела Андоновски 93/2019\n",
    "\n",
    "# <center>Проектна задача по Машинско учење</center>\n",
    "## <center>Предикција на сентименталноста изразена во твитовите</center>\n",
    "\n",
    "Целта на проектната задача е да се развие алгоритам базиран на машинско учење со кој автоматски се анализира и класифицира сентименталноста изразена во твитовите. Со користење на рекурентнa невронскa мрежa (LSTM) и Support Vector Machines (SVM) се овозможува утврдување дали твитовите пренесуваат позитивни, негативни или неутрални чувства."
   ]
  },
  {
   "cell_type": "markdown",
   "id": "915e306e-8508-48a9-a388-c9a518ef5846",
   "metadata": {},
   "source": [
    "## Содржина\n",
    "\n",
    "0. [Вчитување на потребни библиотеки](#bib)\n",
    "1. [Опис на проблемот кој се решава](#opis)\n",
    "    - [Податочно множество](#pod)\n",
    "    - [Визуелизација на податоците](#viz)\n",
    "    - [Опис на користените метрики](#met)\n",
    "2. [Користени пристапи од машинско учење за решавање на проблемот](#pristapi)\n",
    "    - [Опис на алгоритам 1](#prist1)\n",
    "    - [Опис на алгоритам 2](#prist2)\n",
    "  \n",
    "3. [Решавање на проблемот](#res)\n",
    "    - [Решавање со алгоритам 1](#res1)\n",
    "    - [Решавање со алгоритам 2](#res2)\n",
    "  \n",
    "4. [Споредба на резултатите](#spor)\n",
    "5. [Пост-оптимизирачка анализа](#postop)\n",
    "6. [Заклучок](#zakl)\n",
    "7. [Користена литература и ресурси](#resources)"
   ]
  },
  {
   "cell_type": "markdown",
   "id": "44740b8a-101f-4403-9849-c107bc240910",
   "metadata": {},
   "source": [
    "## 0. Вчитување на потребни библиотеки <a id='bib'></a>"
   ]
  },
  {
   "cell_type": "code",
   "execution_count": 1,
   "id": "180eb621-a7d0-4ef0-af61-282b5a853303",
   "metadata": {},
   "outputs": [],
   "source": [
    "import numpy as np\n",
    "import pandas as pd\n",
    "import matplotlib.pyplot as plt\n",
    "from sklearn.model_selection import train_test_split,cross_val_score, KFold\n",
    "import re\n",
    "from keras.models import Sequential, load_model\n",
    "from keras.layers import LSTM, Dense, Embedding, Dropout\n",
    "from keras.preprocessing.text import Tokenizer\n",
    "from keras_preprocessing.sequence import pad_sequences\n",
    "from sklearn.metrics import f1_score, accuracy_score, classification_report\n",
    "from sklearn.svm import SVC\n",
    "from sklearn.feature_extraction.text import TfidfVectorizer\n",
    "from sklearn.multioutput import MultiOutputClassifier\n"
   ]
  },
  {
   "cell_type": "markdown",
   "id": "30032ae9-f043-4d5b-935f-963956413965",
   "metadata": {},
   "source": [
    "## 1. Опис на проблемот кој се решава <a id='opis'></a>\n",
    "\n",
    "Проблемот вклучува препознавање и категоризирање на чувствата изразени во твитовите постирани на Твитер. Станува збор за големо текстуално податочно множество и поради тоа мануелното утврдување дали твитот носи позитивно, негативно или неутрално чувство е непрактично и одзема многу време. Овој проект се обидува да одговори на овој предизвик преку развивање на автоматизирано решение - алгоритам што може да го анализира јазикот што се користи во твитовите и прецизно да ги класифицира во категории на чувства. Ова ќе овозможи ефикасна анализа на чувствата, помагајќи им на бизнисите, истражувачите и аналитичарите на социјалните медиуми да добијат значајни увиди од множеството податоци споделени на Твитер."
   ]
  },
  {
   "cell_type": "markdown",
   "id": "561f7a05-6845-41f3-b6cd-d7b92165f16b",
   "metadata": {},
   "source": [
    "### 1.1. Податочно множество <a id='pod'></a>\n",
    "\n",
    "Вчитување на податочното множество и негово процесирање."
   ]
  },
  {
   "cell_type": "code",
   "execution_count": 2,
   "id": "488b500a-9d3a-45b8-8c8a-87165af71865",
   "metadata": {},
   "outputs": [
    {
     "data": {
      "text/html": [
       "<div>\n",
       "<style scoped>\n",
       "    .dataframe tbody tr th:only-of-type {\n",
       "        vertical-align: middle;\n",
       "    }\n",
       "\n",
       "    .dataframe tbody tr th {\n",
       "        vertical-align: top;\n",
       "    }\n",
       "\n",
       "    .dataframe thead th {\n",
       "        text-align: right;\n",
       "    }\n",
       "</style>\n",
       "<table border=\"1\" class=\"dataframe\">\n",
       "  <thead>\n",
       "    <tr style=\"text-align: right;\">\n",
       "      <th></th>\n",
       "      <th>tweet_id</th>\n",
       "      <th>airline_sentiment</th>\n",
       "      <th>airline_sentiment_confidence</th>\n",
       "      <th>negativereason</th>\n",
       "      <th>negativereason_confidence</th>\n",
       "      <th>airline</th>\n",
       "      <th>airline_sentiment_gold</th>\n",
       "      <th>name</th>\n",
       "      <th>negativereason_gold</th>\n",
       "      <th>retweet_count</th>\n",
       "      <th>text</th>\n",
       "      <th>tweet_coord</th>\n",
       "      <th>tweet_created</th>\n",
       "      <th>tweet_location</th>\n",
       "      <th>user_timezone</th>\n",
       "    </tr>\n",
       "  </thead>\n",
       "  <tbody>\n",
       "    <tr>\n",
       "      <th>0</th>\n",
       "      <td>568109390026448896</td>\n",
       "      <td>negative</td>\n",
       "      <td>1.0000</td>\n",
       "      <td>Customer Service Issue</td>\n",
       "      <td>1.0</td>\n",
       "      <td>Delta</td>\n",
       "      <td>NaN</td>\n",
       "      <td>j_beatz247</td>\n",
       "      <td>NaN</td>\n",
       "      <td>0</td>\n",
       "      <td>@JetBlue you respond to my friend @LisaPal but...</td>\n",
       "      <td>NaN</td>\n",
       "      <td>2015-02-18 10:06:48 -0800</td>\n",
       "      <td>new orleans</td>\n",
       "      <td>NaN</td>\n",
       "    </tr>\n",
       "    <tr>\n",
       "      <th>1</th>\n",
       "      <td>568064842466250752</td>\n",
       "      <td>negative</td>\n",
       "      <td>1.0000</td>\n",
       "      <td>Lost Luggage</td>\n",
       "      <td>1.0</td>\n",
       "      <td>United</td>\n",
       "      <td>NaN</td>\n",
       "      <td>dexhandle</td>\n",
       "      <td>NaN</td>\n",
       "      <td>0</td>\n",
       "      <td>@united Filled out at the airport as part of a...</td>\n",
       "      <td>NaN</td>\n",
       "      <td>2015-02-18 07:09:47 -0800</td>\n",
       "      <td>DC</td>\n",
       "      <td>Eastern Time (US &amp; Canada)</td>\n",
       "    </tr>\n",
       "    <tr>\n",
       "      <th>2</th>\n",
       "      <td>569184255399620608</td>\n",
       "      <td>neutral</td>\n",
       "      <td>0.6842</td>\n",
       "      <td>NaN</td>\n",
       "      <td>NaN</td>\n",
       "      <td>Delta</td>\n",
       "      <td>NaN</td>\n",
       "      <td>kbosspotter</td>\n",
       "      <td>NaN</td>\n",
       "      <td>0</td>\n",
       "      <td>@JetBlue the you above all commercials? Like t...</td>\n",
       "      <td>NaN</td>\n",
       "      <td>2015-02-21 09:17:56 -0800</td>\n",
       "      <td>Logan International Airport</td>\n",
       "      <td>Atlantic Time (Canada)</td>\n",
       "    </tr>\n",
       "    <tr>\n",
       "      <th>3</th>\n",
       "      <td>568912730742255616</td>\n",
       "      <td>negative</td>\n",
       "      <td>1.0000</td>\n",
       "      <td>Customer Service Issue</td>\n",
       "      <td>1.0</td>\n",
       "      <td>US Airways</td>\n",
       "      <td>NaN</td>\n",
       "      <td>drKCfoot</td>\n",
       "      <td>NaN</td>\n",
       "      <td>0</td>\n",
       "      <td>@USAirways technical issues = inefficient comp...</td>\n",
       "      <td>NaN</td>\n",
       "      <td>2015-02-20 15:18:59 -0800</td>\n",
       "      <td>Philly</td>\n",
       "      <td>Eastern Time (US &amp; Canada)</td>\n",
       "    </tr>\n",
       "    <tr>\n",
       "      <th>4</th>\n",
       "      <td>568965309505380352</td>\n",
       "      <td>negative</td>\n",
       "      <td>1.0000</td>\n",
       "      <td>Cancelled Flight</td>\n",
       "      <td>1.0</td>\n",
       "      <td>Southwest</td>\n",
       "      <td>NaN</td>\n",
       "      <td>PamR413</td>\n",
       "      <td>NaN</td>\n",
       "      <td>0</td>\n",
       "      <td>@SouthwestAir Loved one's flight ATL to IND Ca...</td>\n",
       "      <td>NaN</td>\n",
       "      <td>2015-02-20 18:47:55 -0800</td>\n",
       "      <td>NaN</td>\n",
       "      <td>Eastern Time (US &amp; Canada)</td>\n",
       "    </tr>\n",
       "  </tbody>\n",
       "</table>\n",
       "</div>"
      ],
      "text/plain": [
       "             tweet_id airline_sentiment  airline_sentiment_confidence  \\\n",
       "0  568109390026448896          negative                        1.0000   \n",
       "1  568064842466250752          negative                        1.0000   \n",
       "2  569184255399620608           neutral                        0.6842   \n",
       "3  568912730742255616          negative                        1.0000   \n",
       "4  568965309505380352          negative                        1.0000   \n",
       "\n",
       "           negativereason  negativereason_confidence     airline  \\\n",
       "0  Customer Service Issue                        1.0       Delta   \n",
       "1            Lost Luggage                        1.0      United   \n",
       "2                     NaN                        NaN       Delta   \n",
       "3  Customer Service Issue                        1.0  US Airways   \n",
       "4        Cancelled Flight                        1.0   Southwest   \n",
       "\n",
       "  airline_sentiment_gold         name negativereason_gold  retweet_count  \\\n",
       "0                    NaN   j_beatz247                 NaN              0   \n",
       "1                    NaN    dexhandle                 NaN              0   \n",
       "2                    NaN  kbosspotter                 NaN              0   \n",
       "3                    NaN     drKCfoot                 NaN              0   \n",
       "4                    NaN      PamR413                 NaN              0   \n",
       "\n",
       "                                                text tweet_coord  \\\n",
       "0  @JetBlue you respond to my friend @LisaPal but...         NaN   \n",
       "1  @united Filled out at the airport as part of a...         NaN   \n",
       "2  @JetBlue the you above all commercials? Like t...         NaN   \n",
       "3  @USAirways technical issues = inefficient comp...         NaN   \n",
       "4  @SouthwestAir Loved one's flight ATL to IND Ca...         NaN   \n",
       "\n",
       "               tweet_created               tweet_location  \\\n",
       "0  2015-02-18 10:06:48 -0800                  new orleans   \n",
       "1  2015-02-18 07:09:47 -0800                           DC   \n",
       "2  2015-02-21 09:17:56 -0800  Logan International Airport   \n",
       "3  2015-02-20 15:18:59 -0800                       Philly   \n",
       "4  2015-02-20 18:47:55 -0800                          NaN   \n",
       "\n",
       "                user_timezone  \n",
       "0                         NaN  \n",
       "1  Eastern Time (US & Canada)  \n",
       "2      Atlantic Time (Canada)  \n",
       "3  Eastern Time (US & Canada)  \n",
       "4  Eastern Time (US & Canada)  "
      ]
     },
     "execution_count": 2,
     "metadata": {},
     "output_type": "execute_result"
    }
   ],
   "source": [
    "dataset=pd.read_csv('Tweets.csv')\n",
    "dataset=dataset.sample(frac=1).reset_index(drop=True)\n",
    "dataset.head()"
   ]
  },
  {
   "cell_type": "markdown",
   "id": "bcb08ea6-4160-4367-a470-41d2248e18e8",
   "metadata": {},
   "source": [
    "### 1.2. Визуелизација на податоците <a id='viz'></a>\n",
    "\n",
    "Податоците ги визуелизираме од различни аспекти за да доловиме некои зависности и одлики на нивните карактеристики, и да ја анализираме нивната природа и структура.\n"
   ]
  },
  {
   "cell_type": "code",
   "execution_count": 3,
   "id": "6bcb1e9e-9e68-4943-9890-36d94771c21f",
   "metadata": {},
   "outputs": [
    {
     "data": {
      "text/plain": [
       "(14640, 15)"
      ]
     },
     "execution_count": 3,
     "metadata": {},
     "output_type": "execute_result"
    }
   ],
   "source": [
    "dataset.shape #димензија на податоците,дводимензионален dataset т.е матрица со 14640 редови и 15 колони"
   ]
  },
  {
   "cell_type": "markdown",
   "id": "5c1772dd-0e0e-4825-adc1-9e2db062e2d4",
   "metadata": {},
   "source": [
    "Од даденото податочно множество кое има 15 колони и 14640 редови, за понатамошната анализа ни се потребни само две колони: 'airline_sentiment'(output колона) и 'text'(input колона). Oстанатите колони не носат релевантна информација за проблемот кој треба да се реши."
   ]
  },
  {
   "cell_type": "code",
   "execution_count": 4,
   "id": "b96932b8-4b7f-4eb6-a3a6-388941ca78d0",
   "metadata": {},
   "outputs": [
    {
     "data": {
      "text/html": [
       "<div>\n",
       "<style scoped>\n",
       "    .dataframe tbody tr th:only-of-type {\n",
       "        vertical-align: middle;\n",
       "    }\n",
       "\n",
       "    .dataframe tbody tr th {\n",
       "        vertical-align: top;\n",
       "    }\n",
       "\n",
       "    .dataframe thead th {\n",
       "        text-align: right;\n",
       "    }\n",
       "</style>\n",
       "<table border=\"1\" class=\"dataframe\">\n",
       "  <thead>\n",
       "    <tr style=\"text-align: right;\">\n",
       "      <th></th>\n",
       "      <th>airline_sentiment</th>\n",
       "      <th>text</th>\n",
       "    </tr>\n",
       "  </thead>\n",
       "  <tbody>\n",
       "    <tr>\n",
       "      <th>0</th>\n",
       "      <td>negative</td>\n",
       "      <td>@JetBlue you respond to my friend @LisaPal but...</td>\n",
       "    </tr>\n",
       "    <tr>\n",
       "      <th>1</th>\n",
       "      <td>negative</td>\n",
       "      <td>@united Filled out at the airport as part of a...</td>\n",
       "    </tr>\n",
       "    <tr>\n",
       "      <th>2</th>\n",
       "      <td>neutral</td>\n",
       "      <td>@JetBlue the you above all commercials? Like t...</td>\n",
       "    </tr>\n",
       "    <tr>\n",
       "      <th>3</th>\n",
       "      <td>negative</td>\n",
       "      <td>@USAirways technical issues = inefficient comp...</td>\n",
       "    </tr>\n",
       "    <tr>\n",
       "      <th>4</th>\n",
       "      <td>negative</td>\n",
       "      <td>@SouthwestAir Loved one's flight ATL to IND Ca...</td>\n",
       "    </tr>\n",
       "  </tbody>\n",
       "</table>\n",
       "</div>"
      ],
      "text/plain": [
       "  airline_sentiment                                               text\n",
       "0          negative  @JetBlue you respond to my friend @LisaPal but...\n",
       "1          negative  @united Filled out at the airport as part of a...\n",
       "2           neutral  @JetBlue the you above all commercials? Like t...\n",
       "3          negative  @USAirways technical issues = inefficient comp...\n",
       "4          negative  @SouthwestAir Loved one's flight ATL to IND Ca..."
      ]
     },
     "execution_count": 4,
     "metadata": {},
     "output_type": "execute_result"
    }
   ],
   "source": [
    "dataset = dataset[['airline_sentiment','text']]\n",
    "dataset.head()"
   ]
  },
  {
   "cell_type": "code",
   "execution_count": 5,
   "id": "69407afb-21c4-4b4e-8321-39d01b31f296",
   "metadata": {},
   "outputs": [
    {
     "data": {
      "text/plain": [
       "<Axes: ylabel='Frequency'>"
      ]
     },
     "execution_count": 5,
     "metadata": {},
     "output_type": "execute_result"
    },
    {
     "data": {
      "image/png": "[encoded data removed]",
      "text/plain": [
       "<Figure size 640x480 with 1 Axes>"
      ]
     },
     "metadata": {},
     "output_type": "display_data"
    }
   ],
   "source": [
    "%matplotlib inline \n",
    "dataset['text'].str.len().plot.hist()"
   ]
  },
  {
   "cell_type": "code",
   "execution_count": 6,
   "id": "74c613fc-a010-44ce-b995-0dd1fc55fd99",
   "metadata": {},
   "outputs": [
    {
     "data": {
      "text/plain": [
       "negative    9178\n",
       "neutral     3099\n",
       "positive    2363\n",
       "Name: airline_sentiment, dtype: int64"
      ]
     },
     "execution_count": 6,
     "metadata": {},
     "output_type": "execute_result"
    }
   ],
   "source": [
    "dataset['airline_sentiment'].value_counts()"
   ]
  },
  {
   "cell_type": "code",
   "execution_count": 7,
   "id": "85096d80-e121-43ff-97c2-b44c9a8e974a",
   "metadata": {},
   "outputs": [
    {
     "data": {
      "text/plain": [
       "<Axes: >"
      ]
     },
     "execution_count": 7,
     "metadata": {},
     "output_type": "execute_result"
    },
    {
     "data": {
      "image/png": "[encoded data removed]",
      "text/plain": [
       "<Figure size 640x480 with 1 Axes>"
      ]
     },
     "metadata": {},
     "output_type": "display_data"
    }
   ],
   "source": [
    "dataset['airline_sentiment'].value_counts().plot.bar()"
   ]
  },
  {
   "cell_type": "code",
   "execution_count": 8,
   "id": "8a8d45ba-66a5-4a6d-b022-ed79aba6b51e",
   "metadata": {},
   "outputs": [
    {
     "data": {
      "text/plain": [
       "0    JetBlue you respond to my friend LisaPal but y...\n",
       "1    united Filled out at the airport as part of a ...\n",
       "2    JetBlue the you above all commercials Like the...\n",
       "3    USAirways technical issues  inefficient comput...\n",
       "4    SouthwestAir Loved ones flight ATL to IND Canc...\n",
       "Name: text, dtype: object"
      ]
     },
     "execution_count": 8,
     "metadata": {},
     "output_type": "execute_result"
    }
   ],
   "source": [
    "dataset['text'].apply(lambda x: x.lower())\n",
    "dataset['text']= dataset['text'].apply(lambda x: re.sub('[^a-zA-Z0-9\\s]',\"\",x))\n",
    "dataset['text'].head()"
   ]
  },
  {
   "cell_type": "code",
   "execution_count": 9,
   "id": "af4a7183-25d4-4d7d-b0e0-10d737b49e74",
   "metadata": {},
   "outputs": [
    {
     "data": {
      "text/plain": [
       "array([[   0,    0,    0,    0,    0,    0,    0,    0,    0,    0,    0,\n",
       "           0,    0,    0,    0,    0,    0,    0,    0,    0,   17,    6,\n",
       "         691,    1,   11,  553,   31,    6,   70,  691, 1508,    1,   19],\n",
       "       [   0,    0,    0,    0,    0,    0,    0,    0,    0,    0,    0,\n",
       "           0,    0,    0,    0,    0,    0,    0,    0,    5, 1204,   52,\n",
       "          27,    2,  110,   86,  775,   18,    4,  214,  119,  184,  520],\n",
       "       [   0,    0,    0,    0,    0,    0,    0,    0,    0,    0,    0,\n",
       "           0,    0,    0,    0,    0,    0,    0,    0,    0,    0,    0,\n",
       "           0,   17,    2,    6, 1205,   67, 2455,   95,    2, 1427,   74],\n",
       "       [   0,    0,    0,    0,    0,    0,    0,    0,    0,    0,    0,\n",
       "           0,    0,    0,    0,    0,    0,    0,   12, 2054,  294, 3092,\n",
       "         645,  260, 1784,   18, 3093,   24,  729, 1311,   18,  729,  412],\n",
       "       [   0,    0,    0,    0,    0,    0,    0,    0,   16, 1161, 1162,\n",
       "           8,  743,    1, 1914,   37,   83,  161,    1,  955,   15, 2718,\n",
       "         202,  141,   15, 2718,   20,   14, 2719,  131, 2720,   18,  436],\n",
       "       [   0,    0,    0,    0,    0,    0,    0,    0,    0,    0,    0,\n",
       "          13,  120,   18,    6,    3,   93,  437,    2,   74,  487,    3,\n",
       "         267,    1, 1369,   68,    6,    7,  776,   19,    1,  178,  367],\n",
       "       [   0,    0,    0,    0,    0,    0,    0,    0,    0,    0,    0,\n",
       "           0,   16,   36,   99, 1509,   81,    2, 2721, 2722,    3,   23,\n",
       "        2223,   11,   81,   11,    8,  306,    1,  674,  316,   56,   39]],\n",
       "      dtype=int32)"
      ]
     },
     "execution_count": 9,
     "metadata": {},
     "output_type": "execute_result"
    }
   ],
   "source": [
    "tokenizer = Tokenizer(num_words = 5000, split=\" \") # се оставаат најфреквентните 5000 зборови\n",
    "tokenizer.fit_on_texts(dataset['text'].values) # на податоците се поставува tokenizer и се конвертираат во numpy array\n",
    "\n",
    "X=tokenizer.texts_to_sequences(dataset['text'].values) #конверзија на зборовите во броеви\n",
    "X=pad_sequences(X) #сите твитови да имаат иста должина\n",
    "X[:7]"
   ]
  },
  {
   "cell_type": "code",
   "execution_count": 10,
   "id": "a9138bae-db67-4d92-9551-88c5a6bf15e7",
   "metadata": {},
   "outputs": [
    {
     "data": {
      "text/plain": [
       "(14640, 33)"
      ]
     },
     "execution_count": 10,
     "metadata": {},
     "output_type": "execute_result"
    }
   ],
   "source": [
    "X.shape"
   ]
  },
  {
   "cell_type": "markdown",
   "id": "992ec92b-c0b4-40e8-b900-894aa6235e79",
   "metadata": {},
   "source": [
    "## 1.3. Опис на користените метрики <a id='met'></a>"
   ]
  },
  {
   "cell_type": "markdown",
   "id": "cf5756c4-f07a-4822-a729-b7fa65221048",
   "metadata": {},
   "source": [
    "Токенизацијата вклучува сегментирање на континуирана низа од текст во дискретни единици кои се наречени токени. Овие токени може да бидат зборови, подзборови , или дури и знаци, во зависност од избраната стратегија за токенизација.\n",
    "Токенизаторите користат разграничувачи или сепаратори за да одредат каде завршува еден токен, а каде започнува друг. Вообичаените сепаратори на англискиот јазик вклучуваат празни места и интерпункциски знаци (на пр.запирки, точки). \n",
    "Токенизацијата мора да се справи со посебни случаи, како што се контракции (на пр. \"can't\"  треба да се токенизира во  \"can\" и \"n't\" и зборови со цртичка (на пр. \"mother-in-law\"  треба да биде единствен токен).\n",
    "Математички, токенизацијата ги дефинира почетните и крајните граници на секој токен во низа од знаци. Овие граници се клучни за прецизно разделување на текстот. Токенизацијата може да вклучи и математичка нормализација, како што е конвертирање на целиот текст во мали букви за да се обезбеди конзистентност во претставувањето на токените."
   ]
  },
  {
   "cell_type": "markdown",
   "id": "7a055b8c-833d-44e4-a11e-a9984a9ef459",
   "metadata": {},
   "source": [
    "## 2. Користени пристапи од машинско учење за решавање на проблемот <a id='pristapi'></a>\n",
    "\n",
    "Користени се два различни алгоритми за решавање на проблемот.\n",
    "\n",
    "### 2.1. Опис на алгоритам 1 <a id='prist1'></a>\n",
    "Long Short-term Memory(LSTM) е тип na рекурентна невронска мрежа (RNN) што се користи во длабоко учење и обработка на природен јазик(natural language processing). LSTM мрежите се дизајнирани за ефективно запишување и запомнување на long-range зависностите во секвенцијалните податоци. Тие го постигнуваат ова со инкорпорирање на специјализирани мемориски ќелии кои можат да складираат и ажурираат информации преку продолжени секвенци, што ги прави добро прилагодени за задачи како што се препознавање говор, моделирање јазик и анализа на time series. Способноста на LSTM да се справува со long-term и short-term примероци во податоците го прави моќна алатка во различни апликации за машинско учење, овозможувајќи попрецизни предвидувања и подобрено разбирање на секвенцијалните информации.\n",
    "\n",
    "Структурата на LSTM се состои од 3 главни компоненти:\n",
    "* **Cell state:** се однесува како мемориска единица, складирајќи информации со текот на времето. Може да се ажурира, чита и запишува со користење на различни порти, кои го контролираат протокот на информации во и надвор од ќелијата.\n",
    "* **Hidden state:** носи информации за излезот на тековниот временски чекор(time step) и е под влијание на состојбата на ќелијата и влезот во тој временски чекор(time step).\n",
    "* **Gates:** Forget Gate:одредува кои информации од претходната cell state треба да се отфрлат и кои нови информации треба да се складираат. Input Gate: модулира колку нови информации треба да се вградат во cell state. Output Gate:контролира кои информации од cell state треба да се користат за пресметување на излезот во тековниот временски чекор.\n",
    "\n",
    "Параметри на LSTM se:\n",
    "* **Weighted matrices** (W_i, W_f, W_c, W_o): oвие матрици ја контролираат трансформацијата на влезните податоци и скриените состојби за input gate, forget gate, ажурирањето на cell state и излезот.\n",
    "* **Bias Matrices** (b_i, b_f, b_c, b_o): се додаваат на тежинскиот влез(weighted input) и помагаат во процесот на трансформирање на секоја од портите(gates).\n",
    "  \n",
    "Хиперпараметри на LSTM се:\n",
    "    Број на LSTM cells(units), број на слоеви на невронската мрежа, Dropout: техника за регуларизација која по случаен избор поставува дел од активирањата на LSTM невроните на нула за време на тренингот за да се спречи overfitting, Еpochs: претставува колку пати моделот гледа и учи од целата база на податоци, Batch size: се однесува на бројот на примероци за тренирање или точки на податоци што се користат во еден напред и назад премин низ невронската мрежа за време на секое повторување на тренирањето.\n",
    "\n",
    "### 2.2. Опис на алгоритам 2 <a id='prist2'></a>\n",
    "Support Vector Machines(SVM) е моќен алгоритам за машинско учење што се користи за задачи за класификација и регресија. Работи со наоѓање на оптимална хиперрамнина која најдобро ги одвојува податочните точки кои припаѓаат на различни класи во простор со високи димензии. SVM има за цел да ја максимизира маргината помеѓу овие класи, правејќи го робустен за overfitting и високо ефективен во сценарија со сложени граници на одлуки. Овој алгоритам е широко применет во полиња како класификација на слики, категоризација на текст и биоинформатика поради неговата разновидност и способност да се справи со линеарни и нелинеарни врски во податоците.\n",
    "Во случаите каде што податоците не се совршено раздвојливи со хиперрамнина, SVM воведува soft margin, контролирана од хиперпараметарот C. Помала C вредност овозможува поширока маргина, но може да толерира некои погрешни класификации, додека поголема вредност C создава потесна маргина, но спроведува построга класификација.SVM може да  ракува со нелинеарни податоци со тоа што ги мапира во простор со поголема димензија користејќи kernel function(на пр., полиномни или радијални функциски кернели). Во овој трансформиран простор, хиперрамнината често може линеарно да ги одвои податоците, правејќи го SVM способен да решава нелинеарни проблеми со класификација.\n",
    "\n",
    "Еден од клучните аспекти при тренирање на еден SVM модел е нагодување на неговите параметри за тренирање. Еден од највлијателните параметри се:\n",
    "\n",
    "* **C:** Параметар на регуларизација. Јачината на регуларизација е инверзно пропорционална на C. За регуларизација се користи l2 норма. Множество на вредности: **[0, inf]**\n",
    "* **gamma**: Коефициент на јадрото(kernel). Во случајот на гаусово јадро, овој параметер ја одредува стрмноста на функцијата. Множество на вредности: **[0, inf]**\n",
    "* **kernel**: Тип на јадро кое ќе го користи алгоритмот. Јадрото се применува со цел да се овозможи линеарна раздвојливост на податочното множество. Целта е да се преслика секоја од точка од податочното множество во повеќе димензионален простор каде што ќе се овозможи линеарна раздвојливост на множеството. Множество на вредности: **[‘linear’, ‘poly’, ‘rbf’, ‘sigmoid’, ‘precomputed’]**\n",
    "* **degree**: Се одредува степенот на полиномот во случаи кога се користи полиномно јадро."
   ]
  },
  {
   "cell_type": "markdown",
   "id": "106db235-d8fa-4f35-87fa-9c5a293569eb",
   "metadata": {},
   "source": [
    "## 3. Решавање на проблемот <a id='res'></a>\n",
    "\n",
    "### 3.1. Решавање со алгоритам 1 <a id='res1'></a>"
   ]
  },
  {
   "cell_type": "code",
   "execution_count": 11,
   "id": "bd2756cb-2ad6-45cf-83ae-1662518bad48",
   "metadata": {
    "tags": []
   },
   "outputs": [],
   "source": [
    "model = Sequential()\n",
    "\n",
    "model.add(Embedding(5000,256,input_length=X.shape[1])) #for each of those 5000 different words we want to crate a new vector which is currently 256 long\n",
    "model.add(Dropout(0.3))\n",
    "model.add(LSTM(256,return_sequences=True, dropout=0.3, recurrent_dropout=0.2))\n",
    "\n",
    "model.add(LSTM(128, return_sequences=True, dropout=0.3, recurrent_dropout=0.2))\n",
    "model.add(Dropout(0.3))\n",
    "model.add(Dense(64, activation='relu'))\n",
    "model.add(Dropout(0.3))\n",
    "\n",
    "model.add(LSTM(256,dropout = 0.3, recurrent_dropout=0.2))\n",
    "\n",
    "model.add(Dense(3,activation='softmax'))"
   ]
  },
  {
   "cell_type": "code",
   "execution_count": 12,
   "id": "2a478b32-e2e8-4218-b334-53ad778f4fe9",
   "metadata": {},
   "outputs": [
    {
     "name": "stdout",
     "output_type": "stream",
     "text": [
      "Model: \"sequential\"\n",
      "_________________________________________________________________\n",
      " Layer (type)                Output Shape              Param #   \n",
      "=================================================================\n",
      " embedding (Embedding)       (None, 33, 256)           1280000   \n",
      "                                                                 \n",
      " dropout (Dropout)           (None, 33, 256)           0         \n",
      "                                                                 \n",
      " lstm (LSTM)                 (None, 33, 256)           525312    \n",
      "                                                                 \n",
      " lstm_1 (LSTM)               (None, 33, 128)           197120    \n",
      "                                                                 \n",
      " dropout_1 (Dropout)         (None, 33, 128)           0         \n",
      "                                                                 \n",
      " dense (Dense)               (None, 33, 64)            8256      \n",
      "                                                                 \n",
      " dropout_2 (Dropout)         (None, 33, 64)            0         \n",
      "                                                                 \n",
      " lstm_2 (LSTM)               (None, 256)               328704    \n",
      "                                                                 \n",
      " dense_1 (Dense)             (None, 3)                 771       \n",
      "                                                                 \n",
      "=================================================================\n",
      "Total params: 2,340,163\n",
      "Trainable params: 2,340,163\n",
      "Non-trainable params: 0\n",
      "_________________________________________________________________\n"
     ]
    }
   ],
   "source": [
    "model.compile(loss='categorical_crossentropy', optimizer='adam', metrics=['accuracy'])\n",
    "model.summary()"
   ]
  },
  {
   "cell_type": "code",
   "execution_count": 13,
   "id": "4945b9cd-8e4e-4a08-a690-81c03dc85a70",
   "metadata": {},
   "outputs": [
    {
     "name": "stdout",
     "output_type": "stream",
     "text": [
      "negative [1 0 0]\n",
      "negative [1 0 0]\n",
      "neutral [0 1 0]\n",
      "negative [1 0 0]\n",
      "negative [1 0 0]\n",
      "negative [1 0 0]\n",
      "negative [1 0 0]\n"
     ]
    },
    {
     "data": {
      "text/plain": [
       "[None, None, None, None, None, None, None]"
      ]
     },
     "execution_count": 13,
     "metadata": {},
     "output_type": "execute_result"
    }
   ],
   "source": [
    "y= pd.get_dummies(dataset['airline_sentiment']).values\n",
    "[print(dataset['airline_sentiment'][i], y[i] )for i in range(0,7)]"
   ]
  },
  {
   "cell_type": "code",
   "execution_count": 14,
   "id": "662ba5bd-d97d-46fa-bf8c-c6d6753447ac",
   "metadata": {},
   "outputs": [],
   "source": [
    "X_train, X_test, y_train, y_test =train_test_split(X,y,test_size=0.2,random_state=0)"
   ]
  },
  {
   "cell_type": "code",
   "execution_count": 15,
   "id": "12077021-fdda-45eb-9e32-66f002dd1451",
   "metadata": {},
   "outputs": [
    {
     "name": "stdout",
     "output_type": "stream",
     "text": [
      "Epoch 1/10\n"
     ]
    },
    {
     "name": "stderr",
     "output_type": "stream",
     "text": [
      "2023-09-19 00:22:53.739761: W tensorflow/tsl/platform/profile_utils/cpu_utils.cc:128] Failed to get CPU frequency: 0 Hz\n"
     ]
    },
    {
     "name": "stdout",
     "output_type": "stream",
     "text": [
      "366/366 - 85s - loss: 0.7074 - accuracy: 0.6989 - 85s/epoch - 232ms/step\n",
      "Epoch 2/10\n",
      "366/366 - 90s - loss: 0.4877 - accuracy: 0.8166 - 90s/epoch - 247ms/step\n",
      "Epoch 3/10\n",
      "366/366 - 90s - loss: 0.3878 - accuracy: 0.8566 - 90s/epoch - 245ms/step\n",
      "Epoch 4/10\n",
      "366/366 - 91s - loss: 0.3192 - accuracy: 0.8855 - 91s/epoch - 248ms/step\n",
      "Epoch 5/10\n",
      "366/366 - 91s - loss: 0.2734 - accuracy: 0.9045 - 91s/epoch - 248ms/step\n",
      "Epoch 6/10\n",
      "366/366 - 92s - loss: 0.2250 - accuracy: 0.9204 - 92s/epoch - 250ms/step\n",
      "Epoch 7/10\n",
      "366/366 - 90s - loss: 0.1977 - accuracy: 0.9300 - 90s/epoch - 246ms/step\n",
      "Epoch 8/10\n",
      "366/366 - 90s - loss: 0.1688 - accuracy: 0.9405 - 90s/epoch - 245ms/step\n",
      "Epoch 9/10\n",
      "366/366 - 89s - loss: 0.1474 - accuracy: 0.9486 - 89s/epoch - 244ms/step\n",
      "Epoch 10/10\n",
      "366/366 - 90s - loss: 0.1301 - accuracy: 0.9541 - 90s/epoch - 246ms/step\n"
     ]
    },
    {
     "data": {
      "text/plain": [
       "<keras.callbacks.History at 0x168847c40>"
      ]
     },
     "execution_count": 15,
     "metadata": {},
     "output_type": "execute_result"
    }
   ],
   "source": [
    "batch_size=32\n",
    "epochs=10\n",
    "model.fit(X_train, y_train, epochs=epochs,batch_size=batch_size,verbose=2)"
   ]
  },
  {
   "cell_type": "code",
   "execution_count": 16,
   "id": "16f93c7e-90ef-405b-93f8-d0c29ccb37aa",
   "metadata": {},
   "outputs": [
    {
     "name": "stdout",
     "output_type": "stream",
     "text": [
      "92/92 [==============================] - 4s 44ms/step\n",
      "JetBlue you respond to my friend LisaPal but you cant respond directly to me [1 0 0] [0.9009423  0.0845656  0.01449211]\n",
      "united Filled out at the airport as part of a long day made longer [1 0 0] [0.9902632  0.00864202 0.00109482]\n",
      "JetBlue the you above all commercials Like the legroom one [1 0 0] [0.98273164 0.01437774 0.00289055]\n",
      "USAirways technical issues  inefficient computer triage system Personality compassion of operators  not Sad example of sad company [1 0 0] [0.96029794 0.03689336 0.00280863]\n",
      "SouthwestAir Loved ones flight ATL to IND Cancelled Flightled due to ice in Indy Sitting here in Indy it is bone dry Tomorrow 46 of snow [0 0 1] [4.1967435e-04 1.8516129e-02 9.8106420e-01]\n",
      "AmericanAir because of you I am doing the one thing I tried to avoid Thank you for sending me to baggage claim [1 0 0] [9.9884331e-01 1.0871353e-03 6.9590184e-05]\n",
      "SouthwestAir thanks More concerned about the conflicting texts I was receiving my about my flight  Having to drive 10 hours now  [0 1 0] [0.02442036 0.6824609  0.29311875]\n",
      "AmericanAir sounding like they just got bitchslapped by juliasinton948 [1 0 0] [9.9879789e-01 1.1322823e-03 6.9772090e-05]\n",
      "JetBlue nope The regular line was multix faster You literally direct all the wheelchairs and strollers into the same line as EMS [1 0 0] [9.9843389e-01 1.4860561e-03 8.0096601e-05]\n",
      "SouthwestAir everything OK This is my 3rd call for the day and this time Ive been on hold for 15 hrs Ill hang up and try again [1 0 0] [9.9873549e-01 1.1701096e-03 9.4408249e-05]\n",
      "USAirways is charging me 200 to NOT take my flight Lol That is the last time I fly with them [1 0 0] [0.72806865 0.2423508  0.02958058]\n",
      "VirginAmerica posts second consecutive fullyear net profit  ATWOnline httptcotvB5zbzVhg [1 0 0] [9.9856830e-01 1.1946745e-03 2.3701081e-04]\n"
     ]
    },
    {
     "data": {
      "text/plain": [
       "[None, None, None, None, None, None, None, None, None, None, None, None]"
      ]
     },
     "execution_count": 16,
     "metadata": {},
     "output_type": "execute_result"
    }
   ],
   "source": [
    "prediction= model.predict(X_test)\n",
    "[print(dataset['text'][i],y_test[i], prediction[i]) for i in range(0,12)]"
   ]
  },
  {
   "cell_type": "code",
   "execution_count": 17,
   "id": "efdc4028-a700-44d6-8601-26976f2a777d",
   "metadata": {},
   "outputs": [
    {
     "name": "stdout",
     "output_type": "stream",
     "text": [
      "Multi-Label Indicator Format:\n",
      "[[1 0 0]\n",
      " [1 0 0]\n",
      " [1 0 0]\n",
      " ...\n",
      " [1 0 0]\n",
      " [1 0 0]\n",
      " [1 0 0]]\n"
     ]
    }
   ],
   "source": [
    "#Конверзија на рredictions (continuous value) во Multi-Label Indicator Format\n",
    "continuous_multioutput_values = prediction\n",
    "threshold = 0.5\n",
    "multi_label_indicators = (continuous_multioutput_values >= threshold).astype(int)\n",
    "print(\"Multi-Label Indicator Format:\")\n",
    "print(multi_label_indicators)\n"
   ]
  },
  {
   "cell_type": "code",
   "execution_count": 19,
   "id": "bac31f0b-f408-4157-bd58-9348bbcf6675",
   "metadata": {},
   "outputs": [
    {
     "name": "stdout",
     "output_type": "stream",
     "text": [
      "F1-Score: 0.76628438760469\n"
     ]
    }
   ],
   "source": [
    "f1 = f1_score(y_test,multi_label_indicators,average='weighted') \n",
    "print(\"F1-Score:\", f1)"
   ]
  },
  {
   "cell_type": "code",
   "execution_count": 20,
   "id": "724cd2c6-ea06-4549-a9ec-208eb8e13e86",
   "metadata": {},
   "outputs": [
    {
     "name": "stdout",
     "output_type": "stream",
     "text": [
      "Accuracy: 0.7681010928961749\n",
      "Classification Report:\n",
      "               precision    recall  f1-score   support\n",
      "\n",
      "           0       0.84      0.88      0.86      1838\n",
      "           1       0.60      0.50      0.54       622\n",
      "           2       0.71      0.68      0.70       468\n",
      "\n",
      "   micro avg       0.78      0.77      0.77      2928\n",
      "   macro avg       0.72      0.69      0.70      2928\n",
      "weighted avg       0.77      0.77      0.77      2928\n",
      " samples avg       0.77      0.77      0.77      2928\n",
      "\n"
     ]
    },
    {
     "name": "stderr",
     "output_type": "stream",
     "text": [
      "/Users/angelaandonovski/miniconda3/envs/ML/lib/python3.10/site-packages/sklearn/metrics/_classification.py:1344: UndefinedMetricWarning: Precision and F-score are ill-defined and being set to 0.0 in samples with no predicted labels. Use `zero_division` parameter to control this behavior.\n",
      "  _warn_prf(average, modifier, msg_start, len(result))\n"
     ]
    }
   ],
   "source": [
    "accuracy = accuracy_score(y_test,multi_label_indicators)\n",
    "print(\"Accuracy:\", accuracy)\n",
    "\n",
    "report = classification_report(y_test,multi_label_indicators)\n",
    "print(\"Classification Report:\\n\", report)"
   ]
  },
  {
   "cell_type": "markdown",
   "id": "00744d8a-57ad-40b0-8811-b7c6963b3292",
   "metadata": {},
   "source": [
    "### 3.1.1 Примена на k-fold cross validation со алгоритам 1 <a id='res1'></a>"
   ]
  },
  {
   "cell_type": "code",
   "execution_count": 21,
   "id": "8e194b64-abce-4833-91cb-bb51df348007",
   "metadata": {},
   "outputs": [
    {
     "name": "stdout",
     "output_type": "stream",
     "text": [
      "Model: \"sequential_1\"\n",
      "_________________________________________________________________\n",
      " Layer (type)                Output Shape              Param #   \n",
      "=================================================================\n",
      " embedding_1 (Embedding)     (None, 33, 256)           1280000   \n",
      "                                                                 \n",
      " dropout_3 (Dropout)         (None, 33, 256)           0         \n",
      "                                                                 \n",
      " lstm_3 (LSTM)               (None, 33, 256)           525312    \n",
      "                                                                 \n",
      " lstm_4 (LSTM)               (None, 33, 128)           197120    \n",
      "                                                                 \n",
      " dropout_4 (Dropout)         (None, 33, 128)           0         \n",
      "                                                                 \n",
      " dense_2 (Dense)             (None, 33, 64)            8256      \n",
      "                                                                 \n",
      " dropout_5 (Dropout)         (None, 33, 64)            0         \n",
      "                                                                 \n",
      " lstm_5 (LSTM)               (None, 256)               328704    \n",
      "                                                                 \n",
      " dense_3 (Dense)             (None, 3)                 771       \n",
      "                                                                 \n",
      "=================================================================\n",
      "Total params: 2,340,163\n",
      "Trainable params: 2,340,163\n",
      "Non-trainable params: 0\n",
      "_________________________________________________________________\n",
      "Epoch 1/10\n",
      "305/305 - 73s - loss: 0.7290 - accuracy: 0.6814 - 73s/epoch - 241ms/step\n",
      "Epoch 2/10\n",
      "305/305 - 76s - loss: 0.5112 - accuracy: 0.7941 - 76s/epoch - 250ms/step\n",
      "Epoch 3/10\n",
      "305/305 - 76s - loss: 0.3948 - accuracy: 0.8548 - 76s/epoch - 250ms/step\n",
      "Epoch 4/10\n",
      "305/305 - 76s - loss: 0.3206 - accuracy: 0.8868 - 76s/epoch - 251ms/step\n",
      "Epoch 5/10\n",
      "305/305 - 76s - loss: 0.2597 - accuracy: 0.9114 - 76s/epoch - 251ms/step\n",
      "Epoch 6/10\n",
      "305/305 - 75s - loss: 0.2199 - accuracy: 0.9233 - 75s/epoch - 247ms/step\n",
      "Epoch 7/10\n",
      "305/305 - 76s - loss: 0.1898 - accuracy: 0.9347 - 76s/epoch - 250ms/step\n",
      "Epoch 8/10\n",
      "305/305 - 75s - loss: 0.1569 - accuracy: 0.9487 - 75s/epoch - 246ms/step\n",
      "Epoch 9/10\n",
      "305/305 - 77s - loss: 0.1311 - accuracy: 0.9558 - 77s/epoch - 251ms/step\n",
      "Epoch 10/10\n",
      "305/305 - 77s - loss: 0.1197 - accuracy: 0.9598 - 77s/epoch - 252ms/step\n",
      "153/153 [==============================] - 7s 44ms/step\n",
      "Model: \"sequential_2\"\n",
      "_________________________________________________________________\n",
      " Layer (type)                Output Shape              Param #   \n",
      "=================================================================\n",
      " embedding_2 (Embedding)     (None, 33, 256)           1280000   \n",
      "                                                                 \n",
      " dropout_6 (Dropout)         (None, 33, 256)           0         \n",
      "                                                                 \n",
      " lstm_6 (LSTM)               (None, 33, 256)           525312    \n",
      "                                                                 \n",
      " lstm_7 (LSTM)               (None, 33, 128)           197120    \n",
      "                                                                 \n",
      " dropout_7 (Dropout)         (None, 33, 128)           0         \n",
      "                                                                 \n",
      " dense_4 (Dense)             (None, 33, 64)            8256      \n",
      "                                                                 \n",
      " dropout_8 (Dropout)         (None, 33, 64)            0         \n",
      "                                                                 \n",
      " lstm_8 (LSTM)               (None, 256)               328704    \n",
      "                                                                 \n",
      " dense_5 (Dense)             (None, 3)                 771       \n",
      "                                                                 \n",
      "=================================================================\n",
      "Total params: 2,340,163\n",
      "Trainable params: 2,340,163\n",
      "Non-trainable params: 0\n",
      "_________________________________________________________________\n",
      "Epoch 1/10\n",
      "305/305 - 72s - loss: 0.7240 - accuracy: 0.6883 - 72s/epoch - 236ms/step\n",
      "Epoch 2/10\n",
      "305/305 - 74s - loss: 0.5052 - accuracy: 0.8027 - 74s/epoch - 243ms/step\n",
      "Epoch 3/10\n",
      "305/305 - 75s - loss: 0.3885 - accuracy: 0.8513 - 75s/epoch - 245ms/step\n",
      "Epoch 4/10\n",
      "305/305 - 74s - loss: 0.3145 - accuracy: 0.8850 - 74s/epoch - 244ms/step\n",
      "Epoch 5/10\n",
      "305/305 - 75s - loss: 0.2564 - accuracy: 0.9070 - 75s/epoch - 245ms/step\n",
      "Epoch 6/10\n",
      "305/305 - 75s - loss: 0.2148 - accuracy: 0.9213 - 75s/epoch - 246ms/step\n",
      "Epoch 7/10\n",
      "305/305 - 76s - loss: 0.1837 - accuracy: 0.9344 - 76s/epoch - 248ms/step\n",
      "Epoch 8/10\n",
      "305/305 - 75s - loss: 0.1522 - accuracy: 0.9450 - 75s/epoch - 246ms/step\n",
      "Epoch 9/10\n",
      "305/305 - 74s - loss: 0.1282 - accuracy: 0.9540 - 74s/epoch - 243ms/step\n",
      "Epoch 10/10\n",
      "305/305 - 74s - loss: 0.1197 - accuracy: 0.9591 - 74s/epoch - 243ms/step\n",
      "153/153 [==============================] - 7s 45ms/step\n",
      "Model: \"sequential_3\"\n",
      "_________________________________________________________________\n",
      " Layer (type)                Output Shape              Param #   \n",
      "=================================================================\n",
      " embedding_3 (Embedding)     (None, 33, 256)           1280000   \n",
      "                                                                 \n",
      " dropout_9 (Dropout)         (None, 33, 256)           0         \n",
      "                                                                 \n",
      " lstm_9 (LSTM)               (None, 33, 256)           525312    \n",
      "                                                                 \n",
      " lstm_10 (LSTM)              (None, 33, 128)           197120    \n",
      "                                                                 \n",
      " dropout_10 (Dropout)        (None, 33, 128)           0         \n",
      "                                                                 \n",
      " dense_6 (Dense)             (None, 33, 64)            8256      \n",
      "                                                                 \n",
      " dropout_11 (Dropout)        (None, 33, 64)            0         \n",
      "                                                                 \n",
      " lstm_11 (LSTM)              (None, 256)               328704    \n",
      "                                                                 \n",
      " dense_7 (Dense)             (None, 3)                 771       \n",
      "                                                                 \n",
      "=================================================================\n",
      "Total params: 2,340,163\n",
      "Trainable params: 2,340,163\n",
      "Non-trainable params: 0\n",
      "_________________________________________________________________\n",
      "Epoch 1/10\n",
      "305/305 - 74s - loss: 0.7123 - accuracy: 0.6936 - 74s/epoch - 243ms/step\n",
      "Epoch 2/10\n",
      "305/305 - 75s - loss: 0.4952 - accuracy: 0.8053 - 75s/epoch - 246ms/step\n",
      "Epoch 3/10\n",
      "305/305 - 75s - loss: 0.3820 - accuracy: 0.8583 - 75s/epoch - 245ms/step\n",
      "Epoch 4/10\n",
      "305/305 - 75s - loss: 0.3080 - accuracy: 0.8893 - 75s/epoch - 245ms/step\n",
      "Epoch 5/10\n",
      "305/305 - 76s - loss: 0.2557 - accuracy: 0.9051 - 76s/epoch - 250ms/step\n",
      "Epoch 6/10\n",
      "305/305 - 75s - loss: 0.2187 - accuracy: 0.9207 - 75s/epoch - 247ms/step\n",
      "Epoch 7/10\n",
      "305/305 - 77s - loss: 0.1801 - accuracy: 0.9373 - 77s/epoch - 252ms/step\n",
      "Epoch 8/10\n",
      "305/305 - 77s - loss: 0.1462 - accuracy: 0.9499 - 77s/epoch - 251ms/step\n",
      "Epoch 9/10\n",
      "305/305 - 76s - loss: 0.1292 - accuracy: 0.9541 - 76s/epoch - 248ms/step\n",
      "Epoch 10/10\n",
      "305/305 - 76s - loss: 0.1185 - accuracy: 0.9612 - 76s/epoch - 250ms/step\n",
      "153/153 [==============================] - 7s 44ms/step\n",
      "Mean Accuracy: 0.77 (±0.01)\n",
      "Mean F1 Score: 0.77 (±0.01)\n"
     ]
    }
   ],
   "source": [
    "from sklearn.model_selection import StratifiedKFold\n",
    "from sklearn.preprocessing import LabelEncoder\n",
    "from keras.utils import to_categorical\n",
    "\n",
    "# Се осигуруваме дека target labels се нумерички енкодирани \n",
    "label_encoder = LabelEncoder()\n",
    "y_indices = np.argmax(y, axis=1)\n",
    "y_encoded = label_encoder.fit_transform(y_indices)  \n",
    "\n",
    "# Конверзија во one-hot format \n",
    "y_onehot = to_categorical(y_encoded)\n",
    "\n",
    "\n",
    "k = 3\n",
    "accuracy_scores = []\n",
    "f1_scores = []\n",
    "\n",
    "skf = StratifiedKFold(n_splits=k, shuffle=True, random_state=42)\n",
    "\n",
    "\n",
    "for train_index, test_index in skf.split(X, y_encoded):\n",
    "    X_train, X_test = X[train_index], X[test_index]\n",
    "    y_train, y_test = y_onehot[train_index], y_onehot[test_index]\n",
    "    \n",
    "    # Дефинирање и тренирање на LSTM моделот\n",
    "    model = Sequential()\n",
    "\n",
    "    model.add(Embedding(5000,256,input_length=X.shape[1])) \n",
    "    #model.add(LSTM(units=64, return_sequences=True, kernel_regularizer=l2(0.01), recurrent_regularizer=l2(0.01)))\n",
    "    model.add(Dropout(0.3))\n",
    "    model.add(LSTM(256,return_sequences=True, dropout=0.3, recurrent_dropout=0.2))\n",
    "\n",
    "    model.add(LSTM(128, return_sequences=True, dropout=0.3, recurrent_dropout=0.2))\n",
    "    model.add(Dropout(0.3))\n",
    "    model.add(Dense(64, activation='relu'))\n",
    "    model.add(Dropout(0.3))\n",
    "\n",
    "    model.add(LSTM(256,dropout = 0.3, recurrent_dropout=0.2))\n",
    "\n",
    "    model.add(Dense(3,activation='softmax'))\n",
    "    model.compile(loss='categorical_crossentropy', optimizer='adam', metrics=['accuracy'])\n",
    "    model.summary()\n",
    "    model.fit(X_train, y_train, epochs=10,batch_size=32,verbose=2)\n",
    "    \n",
    "    \n",
    "    # Евалуација на моделот и калкулација на метриките\n",
    "    y_pred = model.predict(X_test)\n",
    "    y_pred_class = np.argmax(y_pred, axis=1)\n",
    "    y_test_class = np.argmax(y_test, axis=1)\n",
    "\n",
    "    accuracy = accuracy_score(y_test_class, y_pred_class)\n",
    "    f1 = f1_score(y_test_class, y_pred_class, average='weighted')  \n",
    "\n",
    "    accuracy_scores.append(accuracy)\n",
    "    f1_scores.append(f1)\n",
    "\n",
    "\n",
    "\n",
    "mean_accuracy = np.mean(accuracy_scores)\n",
    "std_accuracy = np.std(accuracy_scores)\n",
    "\n",
    "mean_f1 = np.mean(f1_scores)\n",
    "std_f1 = np.std(f1_scores)\n",
    "\n",
    "print(f\"Mean Accuracy: {mean_accuracy:.2f} (±{std_accuracy:.2f})\")\n",
    "print(f\"Mean F1 Score: {mean_f1:.2f} (±{std_f1:.2f})\")\n"
   ]
  },
  {
   "cell_type": "markdown",
   "id": "c7bbb001-2882-4091-b30a-2fcfd06157de",
   "metadata": {},
   "source": [
    "### 3.2. Решавање со алгоритам 2 <a id='res2'></a>"
   ]
  },
  {
   "cell_type": "code",
   "execution_count": 22,
   "id": "bc8e8e03-cdcc-4f0b-9e7f-c89bf0ccfddd",
   "metadata": {},
   "outputs": [],
   "source": [
    "X=dataset['text']"
   ]
  },
  {
   "cell_type": "code",
   "execution_count": 23,
   "id": "8e8822c4-5b91-4076-a37a-c1c99289521f",
   "metadata": {},
   "outputs": [
    {
     "name": "stdout",
     "output_type": "stream",
     "text": [
      "negative [1 0 0]\n",
      "negative [1 0 0]\n",
      "neutral [0 1 0]\n",
      "negative [1 0 0]\n",
      "negative [1 0 0]\n",
      "negative [1 0 0]\n",
      "negative [1 0 0]\n"
     ]
    },
    {
     "data": {
      "text/plain": [
       "[None, None, None, None, None, None, None]"
      ]
     },
     "execution_count": 23,
     "metadata": {},
     "output_type": "execute_result"
    }
   ],
   "source": [
    "y= pd.get_dummies(dataset['airline_sentiment']).values\n",
    "[print(dataset['airline_sentiment'][i], y[i] )for i in range(0,7)]"
   ]
  },
  {
   "cell_type": "code",
   "execution_count": 24,
   "id": "99a60ac4-cf9a-4a55-a732-03f92234749d",
   "metadata": {},
   "outputs": [],
   "source": [
    "X_train, X_test, y_train, y_test = train_test_split(X, y, test_size=0.2, random_state=42)\n",
    "#Градење на SVM модел\n",
    "svm_classifier = SVC(kernel='linear')\n",
    "\n",
    "multioutput_classifier = MultiOutputClassifier(svm_classifier)\n",
    "# Конверзија на 1D text data(input data) во нумерички карактеристики\n",
    "tfidf_vectorizer = TfidfVectorizer()\n",
    "X_train_features = tfidf_vectorizer.fit_transform(X_train)\n",
    "X_test_features = tfidf_vectorizer.transform(X_test)\n",
    "\n",
    "multioutput_classifier.fit(X_train_features, y_train)\n",
    "\n",
    "y_pred = multioutput_classifier.predict(X_test_features)"
   ]
  },
  {
   "cell_type": "code",
   "execution_count": 25,
   "id": "e8750451-fd1d-4a28-b439-700aaefae76a",
   "metadata": {},
   "outputs": [
    {
     "name": "stdout",
     "output_type": "stream",
     "text": [
      "Accuracy: 0.7581967213114754\n",
      "F1 score:  0.7615391149277204\n",
      "Classification Report:\n",
      "               precision    recall  f1-score   support\n",
      "\n",
      "           0       0.86      0.92      0.89      1825\n",
      "           1       0.75      0.49      0.59       618\n",
      "           2       0.85      0.62      0.71       485\n",
      "\n",
      "   micro avg       0.84      0.78      0.81      2928\n",
      "   macro avg       0.82      0.67      0.73      2928\n",
      "weighted avg       0.83      0.78      0.80      2928\n",
      " samples avg       0.77      0.78      0.77      2928\n",
      "\n"
     ]
    },
    {
     "name": "stderr",
     "output_type": "stream",
     "text": [
      "/Users/angelaandonovski/miniconda3/envs/ML/lib/python3.10/site-packages/sklearn/metrics/_classification.py:1344: UndefinedMetricWarning: Precision and F-score are ill-defined and being set to 0.0 in samples with no predicted labels. Use `zero_division` parameter to control this behavior.\n",
      "  _warn_prf(average, modifier, msg_start, len(result))\n"
     ]
    }
   ],
   "source": [
    "# Eвалуација на перформансoт на моделот \n",
    "accuracy_SVM = accuracy_score(y_test, y_pred)\n",
    "print(\"Accuracy:\", accuracy)\n",
    "\n",
    "f1_SVM = f1_score(y_test, y_pred, average='weighted')\n",
    "print(\"F1 score: \", f1)\n",
    "\n",
    "report = classification_report(y_test, y_pred)\n",
    "print(\"Classification Report:\\n\", report)\n"
   ]
  },
  {
   "cell_type": "markdown",
   "id": "21e36fa3-5744-4519-8166-c60ea7d3ff31",
   "metadata": {},
   "source": [
    "### 3.2.1 Примена на k-fold cross validation со алгоритам 2 <a id='res1'></a>"
   ]
  },
  {
   "cell_type": "code",
   "execution_count": 29,
   "id": "4190767a-905d-4099-9c06-d781cf8703b8",
   "metadata": {},
   "outputs": [
    {
     "name": "stdout",
     "output_type": "stream",
     "text": [
      "Fold 1 Accuracy: 0.7542662116040956\n",
      "Fold 2 Accuracy: 0.7192832764505119\n",
      "Fold 3 Accuracy: 0.7361229718189581\n",
      "Fold 4 Accuracy: 0.7275832621690862\n",
      "Fold 5 Accuracy: 0.740392826643894\n",
      "Fold 6 Accuracy: 0.713065755764304\n",
      "Fold 7 Accuracy: 0.7258753202391118\n",
      "Fold 8 Accuracy: 0.7190435525192144\n",
      "Fold 9 Accuracy: 0.7600341588385995\n",
      "Fold 10 Accuracy: 0.726729291204099\n",
      "Average Cross-Validation Accuracy: 0.7322396627251874\n"
     ]
    }
   ],
   "source": [
    "# Креирање на SVM класификатор со linear kernel \n",
    "svm_classifier = SVC(kernel='linear')\n",
    "\n",
    "# Креирање на MultiOutputClassifier што поддржува multi-label класификација\n",
    "multioutput_classifier = MultiOutputClassifier(svm_classifier)\n",
    "\n",
    "\n",
    "tfidf_vectorizer = TfidfVectorizer()\n",
    "X_train_features = tfidf_vectorizer.fit_transform(X_train)\n",
    "X_test_features = tfidf_vectorizer.transform(X_test)\n",
    "\n",
    "\n",
    "# k-fold cross-validation\n",
    "k = 10\n",
    "kf = KFold(n_splits=k, shuffle=True, random_state=42)\n",
    "cross_val_scores = cross_val_score(multioutput_classifier, X_train_features, y_train, cv=kf, scoring='accuracy')\n",
    "\n",
    "# cross-validation scores\n",
    "for fold_num, accuracy in enumerate(cross_val_scores, start=1):\n",
    "    print(f\"Fold {fold_num} Accuracy: {accuracy}\")\n",
    "\n",
    "# Kaлкулација на средната вредност на cross-validation accuracy\n",
    "average_accuracy = np.mean(cross_val_scores)\n",
    "print(f\"Average Cross-Validation Accuracy: {average_accuracy}\")"
   ]
  },
  {
   "cell_type": "markdown",
   "id": "161f6bd7-23bd-4404-83ba-7e9bcdbd5148",
   "metadata": {},
   "source": [
    "## 4. Споредба на резултатите <a id='spor'></a>"
   ]
  },
  {
   "cell_type": "code",
   "execution_count": 66,
   "id": "ee1922d3-1b8c-4cd2-869b-d032d88d32c8",
   "metadata": {},
   "outputs": [
    {
     "data": {
      "text/plain": [
       "Text(0.5, 1.0, 'Споредба на алгоритмите според средната вредност на accuracy (k-fold cv)')"
      ]
     },
     "execution_count": 66,
     "metadata": {},
     "output_type": "execute_result"
    },
    {
     "data": {
      "image/png": "[encoded data removed]",
      "text/plain": [
       "<Figure size 500x500 with 1 Axes>"
      ]
     },
     "metadata": {},
     "output_type": "display_data"
    }
   ],
   "source": [
    "plt.figure(figsize=(5, 5))\n",
    "models = ['LSTM', 'SVМ']\n",
    "accuracies = (mean_accuracy,average_accuracy)\n",
    "plt.bar(models, accuracies)\n",
    "plt.title(\"Споредба на алгоритмите според средната вредност на accuracy (k-fold cv)\")"
   ]
  },
  {
   "cell_type": "code",
   "execution_count": 65,
   "id": "50ec1d0c-50d9-4b83-845a-39139bfad38b",
   "metadata": {},
   "outputs": [
    {
     "data": {
      "text/plain": [
       "Text(0.5, 1.0, 'Споредба на алгоритмите според f1 score')"
      ]
     },
     "execution_count": 65,
     "metadata": {},
     "output_type": "execute_result"
    },
    {
     "data": {
      "image/png": "[encoded data removed]",
      "text/plain": [
       "<Figure size 500x500 with 1 Axes>"
      ]
     },
     "metadata": {},
     "output_type": "display_data"
    }
   ],
   "source": [
    "plt.figure(figsize=(5, 5))\n",
    "models = ['LSTM', 'SVМ']\n",
    "accuracies = (f1,f1_SVM)\n",
    "plt.bar(models, accuracies)\n",
    "plt.title(\"Споредба на алгоритмите според f1 score\")"
   ]
  },
  {
   "cell_type": "code",
   "execution_count": 68,
   "id": "da41b9f2-6d65-4241-ba57-98e1b551c23d",
   "metadata": {},
   "outputs": [
    {
     "data": {
      "text/plain": [
       "Text(0.5, 1.0, 'Споредба на алгоритмите според accuracy')"
      ]
     },
     "execution_count": 68,
     "metadata": {},
     "output_type": "execute_result"
    },
    {
     "data": {
      "image/png": "[encoded data removed]",
      "text/plain": [
       "<Figure size 500x500 with 1 Axes>"
      ]
     },
     "metadata": {},
     "output_type": "display_data"
    }
   ],
   "source": [
    "plt.figure(figsize=(5, 5))\n",
    "models = ['LSTM', 'SVМ']\n",
    "accuracies = (accuracy,accuracy_SVM)\n",
    "plt.bar(models, accuracies)\n",
    "plt.title(\"Споредба на алгоритмите според accuracy\")"
   ]
  },
  {
   "cell_type": "markdown",
   "id": "5de582a3-a571-43c6-bcfe-a68d2445e52d",
   "metadata": {},
   "source": [
    "## 5. Пост-оптимизирачка анализа <a id='postop'></a>"
   ]
  },
  {
   "cell_type": "markdown",
   "id": "376c215b-a870-4140-9b69-ae9ef0fd9095",
   "metadata": {
    "tags": []
   },
   "source": [
    "Примарните метрики користени за евалуација на моделите се F1 score, кој го мери балансот меѓу precision и recall, и accuracy, која ја мери целокупната точност на предвидувањата. Вредноста на F1 score за двата модели e приближно 0.8, додека точноста(accuracy) e со вредност 0.74."
   ]
  },
  {
   "cell_type": "markdown",
   "id": "d83c5cc3-d799-41af-9ad6-c919ef88052c",
   "metadata": {},
   "source": [
    "F1 score е важна метрика за анализа на сентименталноста бидејќи прави баланс меѓу precision( пропорцијата на true positives наспроти сите predicted positives) и recall (пропорцијата на true positives наспроти сите actual positives). Вредноста на F1 score од 0.8 се смета за добар резултат, индицирајќи дека и двата модели имаат прифатливо добар перформанс во однос на правилното класифицирање на чувства.\n",
    "\n",
    "F1 score од 80% сугерира дека моделите можат ефективно да ги класифицираат и позитивните,негативните и неутралните чувства во твитовите.\n",
    "Балансираниот F1 score  покажува дека моделите одржуваат добар trade-off помеѓу минимизирање на лажни позитиви(false positives) и лажни негативни(false negatives)."
   ]
  },
  {
   "cell_type": "markdown",
   "id": "47c6f486-c1a7-4c8b-9ad0-1375f95c3fba",
   "metadata": {},
   "source": [
    "Точноста(аccuracy) ја мери целокупната исправност на предвидувањата, земајќи ги предвид и true positives и true negative. Точноста од 74% имплицира дека значителен дел од твитовите биле правилно класифицирани од двата модели односно дека моделите имаат разумно добри резултати во класифицирањето на твитовите во нивните соодветни категории. Важно е да се забележи дека на точноста може да влијание нерамнотежата на класите во базата на податоци."
   ]
  },
  {
   "cell_type": "markdown",
   "id": "b12c5fdc-0f19-490d-bbeb-1b8f7bea498c",
   "metadata": {},
   "source": [
    "Кога треба да избереме еден од алгоритмите, LSTM или SVM, за предвидување на сентименталноста, важно е да се разгледаат неколку фактори.\n",
    "* **LSTM:** Предности на овој модел се тоа што e добро прилагоден за секвенцијални податоци како текст, може да фати сложени зависности во податоците, има потенцијал за понатамошно подобрување со подесување на хиперпараметри. Недостатоци се тоа што има потреба од поголема компјутациона моќ, побарува поголемo количество на податоци за тренирање за да генерализира ефективно.\n",
    "   \n",
    "* **SVM**: Силни страни на овој модел е тоа што е ефективен за high-dimensional feature spaces, ефикасни се за пресметка, едноставност и интерпретабилност. Негативнa странa на овој модел е тоа што не толку ефикасно ги oпишува секвенцијални зависности во податоците.\n"
   ]
  },
  {
   "cell_type": "markdown",
   "id": "0f630df0-65ff-4159-9a31-00f5c6abfdc2",
   "metadata": {},
   "source": [
    "Следни чекори кои можат да се преземат за да се подобри перформансот на моделите се:\n",
    "\n",
    "Да се истражи распределбата на класите во базата на податоци и да се истражат техниките како што се oversampling, undersampling или користење на различни метрики за оценување за да се решат потенцијалните проблеми со нерамнотежа на класите.\n",
    "\n",
    "Евалуација на ефективноста на техниките за обработка на текст, како што се stemming, stop-word removal и ракување со специјални знаци или emojis.\n",
    "\n",
    "Да се истражи можноста за комбинирање на предвидувањата од двата модели користејќи техники на ансамбл, како што се stacking или voting, за потенцијално подобрување на севкупните перформанси.\n",
    "\n"
   ]
  },
  {
   "cell_type": "markdown",
   "id": "82a48dd4-eb35-42e8-a077-0e7aeebbb33e",
   "metadata": {},
   "source": [
    "## 6. Заклучок <a id='zakl'></a>\n",
    "\n",
    "Конечните резултати од овој проект за предвидување на чувствата, со користење на моделите Long Short-Term Memory(LSTM) и Support Vector Machines(SVM) индицираат значителен напредок во разбирањето и класифицирањето на чувствата во твитовите.\n",
    "\n",
    "Финалните резултати, карактеризирани со 80% F1 score и 74% точност (accuracy) укажуваат дека постои ефикасна класификација на сентименталноста т.е. дека моделите се вешти во препознавање и доловување на емоционална содржина вградена во текстот, дури и во концизен и неформален контекст како твитовите. Балансираниот F1 score сугерира дека моделите постигнуваат баланс помеѓу precision и recall, ублажувајќи ги последиците од лажни позитиви и лажни негативни. Ова е клучно за апликации каде што погрешната класификација има различни нивоа на влијание. Точноста, иако не е исклучително висока, сепак означува дека значителен дел од твитовите се правилно класифицирани.\n",
    "\n",
    "Значењето на проблемот лежи во неговиот потенцијал да поттикне подобро разбирање, ангажман на корисниците и одговорно управување со содржината во областа на социјалните медиуми."
   ]
  },
  {
   "cell_type": "markdown",
   "id": "492183ae-aab2-45b9-af25-bf2f090bb60f",
   "metadata": {},
   "source": [
    "## 7. Користена литература и ресурси <a class=\"anchor\" id=\"resources\"></a>\n",
    "\n",
    "\n",
    "1. https://www.analyticsvidhya.com/blog/2021/03/introduction-to-long-short-term-memory-lstm/\n",
    "2. https://www.imperva.com/learn/data-security/tokenization/#:~:text=EssentialsRegulation%20%26%20Compliance-,What%20is%20Tokenization,or%20exploitable%20value%20or%20meaning.\n",
    "3. https://www.kaggle.com/code/satishgunjal/tokenization-in-nlp\n",
    "4. https://www.javatpoint.com/machine-learning-support-vector-machine-algorithm\n"
   ]
  },
  {
   "cell_type": "code",
   "execution_count": null,
   "id": "94d67127-3b61-4c01-803b-957f9912e7d8",
   "metadata": {},
   "outputs": [],
   "source": []
  },
  {
   "cell_type": "code",
   "execution_count": null,
   "id": "3110b31b-123b-4859-8f31-daffeb821886",
   "metadata": {},
   "outputs": [],
   "source": []
  }
 ],
 "metadata": {
  "kernelspec": {
   "display_name": "Python 3 (ipykernel)",
   "language": "python",
   "name": "python3"
  },
  "language_info": {
   "codemirror_mode": {
    "name": "ipython",
    "version": 3
   },
   "file_extension": ".py",
   "mimetype": "text/x-python",
   "name": "python",
   "nbconvert_exporter": "python",
   "pygments_lexer": "ipython3",
   "version": "3.10.9"
  }
 },
 "nbformat": 4,
 "nbformat_minor": 5
}
